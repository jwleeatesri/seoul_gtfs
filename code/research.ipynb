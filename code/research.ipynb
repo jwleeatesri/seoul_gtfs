{
 "cells": [
  {
   "cell_type": "code",
   "execution_count": 1,
   "metadata": {},
   "outputs": [],
   "source": [
    "import numpy as np\n",
    "import pandas as pd"
   ]
  },
  {
   "cell_type": "code",
   "execution_count": 2,
   "metadata": {},
   "outputs": [],
   "source": [
    "%load_ext autoreload\n",
    "%autoreload 2"
   ]
  },
  {
   "cell_type": "code",
   "execution_count": 6,
   "metadata": {},
   "outputs": [],
   "source": [
    "bus_routes = pd.read_excel(\"../source/bus.xlsx\")"
   ]
  },
  {
   "cell_type": "code",
   "execution_count": 9,
   "metadata": {},
   "outputs": [],
   "source": [
    "bus_routes.columns=[\"agency\",\"route_no\",\"type\",\"start\",\"end\",\"num_buses_total\",\"num_buses_active\",\"num_buses_wait\",\"distance\",\"hour_active\",\"num_runs\",\"min_run\",\"max_run\",\"first_time\",\"end_time\"]"
   ]
  },
  {
   "cell_type": "code",
   "execution_count": 10,
   "metadata": {},
   "outputs": [
    {
     "data": {
      "text/html": [
       "<div>\n",
       "<style scoped>\n",
       "    .dataframe tbody tr th:only-of-type {\n",
       "        vertical-align: middle;\n",
       "    }\n",
       "\n",
       "    .dataframe tbody tr th {\n",
       "        vertical-align: top;\n",
       "    }\n",
       "\n",
       "    .dataframe thead th {\n",
       "        text-align: right;\n",
       "    }\n",
       "</style>\n",
       "<table border=\"1\" class=\"dataframe\">\n",
       "  <thead>\n",
       "    <tr style=\"text-align: right;\">\n",
       "      <th></th>\n",
       "      <th>agency</th>\n",
       "      <th>route_no</th>\n",
       "      <th>type</th>\n",
       "      <th>start</th>\n",
       "      <th>end</th>\n",
       "      <th>num_buses_total</th>\n",
       "      <th>num_buses_active</th>\n",
       "      <th>num_buses_wait</th>\n",
       "      <th>distance</th>\n",
       "      <th>hour_active</th>\n",
       "      <th>num_runs</th>\n",
       "      <th>min_run</th>\n",
       "      <th>max_run</th>\n",
       "      <th>first_time</th>\n",
       "      <th>end_time</th>\n",
       "    </tr>\n",
       "  </thead>\n",
       "  <tbody>\n",
       "    <tr>\n",
       "      <th>0</th>\n",
       "      <td>북부운수</td>\n",
       "      <td>1</td>\n",
       "      <td>순환</td>\n",
       "      <td>남산예장버스환승주차장</td>\n",
       "      <td>남산예장버스환승주차장</td>\n",
       "      <td>12</td>\n",
       "      <td>10</td>\n",
       "      <td>2</td>\n",
       "      <td>16.00</td>\n",
       "      <td>60</td>\n",
       "      <td>120</td>\n",
       "      <td>7</td>\n",
       "      <td>10</td>\n",
       "      <td>0630</td>\n",
       "      <td>2300</td>\n",
       "    </tr>\n",
       "    <tr>\n",
       "      <th>1</th>\n",
       "      <td>한성여객</td>\n",
       "      <td>100</td>\n",
       "      <td>간선</td>\n",
       "      <td>하계동</td>\n",
       "      <td>용산구청</td>\n",
       "      <td>30</td>\n",
       "      <td>28</td>\n",
       "      <td>2</td>\n",
       "      <td>57.09</td>\n",
       "      <td>231</td>\n",
       "      <td>112</td>\n",
       "      <td>8</td>\n",
       "      <td>12</td>\n",
       "      <td>0400</td>\n",
       "      <td>2230</td>\n",
       "    </tr>\n",
       "    <tr>\n",
       "      <th>2</th>\n",
       "      <td>동아운수</td>\n",
       "      <td>101</td>\n",
       "      <td>간선</td>\n",
       "      <td>우이동</td>\n",
       "      <td>서소문</td>\n",
       "      <td>23</td>\n",
       "      <td>22</td>\n",
       "      <td>1</td>\n",
       "      <td>37.81</td>\n",
       "      <td>170</td>\n",
       "      <td>119</td>\n",
       "      <td>5</td>\n",
       "      <td>11</td>\n",
       "      <td>0400</td>\n",
       "      <td>2300</td>\n",
       "    </tr>\n",
       "    <tr>\n",
       "      <th>3</th>\n",
       "      <td>한성운수</td>\n",
       "      <td>101</td>\n",
       "      <td>간선</td>\n",
       "      <td>우이동</td>\n",
       "      <td>서소문</td>\n",
       "      <td>9</td>\n",
       "      <td>8</td>\n",
       "      <td>1</td>\n",
       "      <td>37.81</td>\n",
       "      <td>165</td>\n",
       "      <td>41</td>\n",
       "      <td>6</td>\n",
       "      <td>12</td>\n",
       "      <td>0400</td>\n",
       "      <td>2300</td>\n",
       "    </tr>\n",
       "    <tr>\n",
       "      <th>4</th>\n",
       "      <td>삼화상운</td>\n",
       "      <td>102</td>\n",
       "      <td>간선</td>\n",
       "      <td>상계주공7단지</td>\n",
       "      <td>동대문</td>\n",
       "      <td>2</td>\n",
       "      <td>2</td>\n",
       "      <td>0</td>\n",
       "      <td>30.20</td>\n",
       "      <td>126</td>\n",
       "      <td>14</td>\n",
       "      <td>8</td>\n",
       "      <td>12</td>\n",
       "      <td>0400</td>\n",
       "      <td>2310</td>\n",
       "    </tr>\n",
       "  </tbody>\n",
       "</table>\n",
       "</div>"
      ],
      "text/plain": [
       "  agency route_no type        start          end  num_buses_total  \\\n",
       "0   북부운수        1   순환  남산예장버스환승주차장  남산예장버스환승주차장               12   \n",
       "1   한성여객      100   간선          하계동         용산구청               30   \n",
       "2   동아운수      101   간선          우이동          서소문               23   \n",
       "3   한성운수      101   간선          우이동          서소문                9   \n",
       "4   삼화상운      102   간선      상계주공7단지          동대문                2   \n",
       "\n",
       "   num_buses_active  num_buses_wait  distance  hour_active  num_runs  min_run  \\\n",
       "0                10               2     16.00           60       120        7   \n",
       "1                28               2     57.09          231       112        8   \n",
       "2                22               1     37.81          170       119        5   \n",
       "3                 8               1     37.81          165        41        6   \n",
       "4                 2               0     30.20          126        14        8   \n",
       "\n",
       "   max_run first_time end_time  \n",
       "0       10       0630     2300  \n",
       "1       12       0400     2230  \n",
       "2       11       0400     2300  \n",
       "3       12       0400     2300  \n",
       "4       12       0400     2310  "
      ]
     },
     "execution_count": 10,
     "metadata": {},
     "output_type": "execute_result"
    }
   ],
   "source": [
    "bus_routes.head()"
   ]
  },
  {
   "cell_type": "code",
   "execution_count": 12,
   "metadata": {},
   "outputs": [
    {
     "data": {
      "text/plain": [
       "65"
      ]
     },
     "execution_count": 12,
     "metadata": {},
     "output_type": "execute_result"
    }
   ],
   "source": [
    "len(bus_routes[\"agency\"].value_counts())"
   ]
  },
  {
   "cell_type": "code",
   "execution_count": 18,
   "metadata": {},
   "outputs": [],
   "source": [
    "from builds import build_agency"
   ]
  },
  {
   "cell_type": "code",
   "execution_count": 20,
   "metadata": {},
   "outputs": [],
   "source": [
    "from pathlib import Path"
   ]
  },
  {
   "cell_type": "code",
   "execution_count": 21,
   "metadata": {},
   "outputs": [],
   "source": [
    "bus_path = Path(r\"/home/ljin/Projects/seoul_gtfs/source/bus.xlsx\")"
   ]
  },
  {
   "cell_type": "code",
   "execution_count": 1,
   "metadata": {},
   "outputs": [],
   "source": [
    "import requests\n",
    "from dotenv import load_dotenv\n",
    "import pandas as pd\n",
    "import os"
   ]
  },
  {
   "cell_type": "code",
   "execution_count": 2,
   "metadata": {},
   "outputs": [
    {
     "data": {
      "text/plain": [
       "True"
      ]
     },
     "execution_count": 2,
     "metadata": {},
     "output_type": "execute_result"
    }
   ],
   "source": [
    "load_dotenv()"
   ]
  },
  {
   "cell_type": "code",
   "execution_count": 3,
   "metadata": {},
   "outputs": [],
   "source": [
    "res = requests.get(\n",
    "    url=f\"{os.getenv('BUS_BASE_URL')}getRouteInfo\",\n",
    "    params={\n",
    "        \"ServiceKey\":os.getenv(\"DATA_KEY\"),\n",
    "        \"busRouteId\":\"100100564\",\n",
    "        \"resultType\":\"json\"\n",
    "    }\n",
    ")"
   ]
  },
  {
   "cell_type": "code",
   "execution_count": 4,
   "metadata": {},
   "outputs": [
    {
     "data": {
      "text/plain": [
       "b'{\"comMsgHeader\":{\"responseMsgID\":null,\"responseTime\":null,\"requestMsgID\":null,\"returnCode\":null,\"successYN\":null,\"errMsg\":null},\"msgHeader\":{\"headerMsg\":\"\\xec\\xa0\\x95\\xec\\x83\\x81\\xec\\xa0\\x81\\xec\\x9c\\xbc\\xeb\\xa1\\x9c \\xec\\xb2\\x98\\xeb\\xa6\\xac\\xeb\\x90\\x98\\xec\\x97\\x88\\xec\\x8a\\xb5\\xeb\\x8b\\x88\\xeb\\x8b\\xa4.\",\"headerCd\":\"0\",\"itemCount\":0},\"msgBody\":{\"itemList\":[{\"busRouteId\":\"100100564\",\"busRouteNm\":\"320\",\"busRouteAbrv\":\"320\",\"length\":\"39.2\",\"routeType\":\"3\",\"stStationNm\":\"\\xeb\\xb3\\xb5\\xec\\xa0\\x95\\xec\\x97\\xad\\xed\\x99\\x98\\xec\\x8a\\xb9\\xec\\x84\\xbc\\xed\\x84\\xb0\",\"edStationNm\":\"\\xec\\xa4\\x91\\xeb\\x9e\\x91\\xea\\xb5\\xac\\xec\\xb2\\xad\",\"term\":\"9\",\"lastBusYn\":\" \",\"lastBusTm\":\"20230329230000\",\"firstBusTm\":\"20230329040000\",\"lastLowTm\":\"20201130224000\",\"firstLowTm\":\"              \",\"corpNm\":\"\\xeb\\x82\\xa8\\xec\\x84\\xb1\\xeb\\xb2\\x84\\xec\\x8a\\xa4  02-401-1359\"}]}}'"
      ]
     },
     "execution_count": 4,
     "metadata": {},
     "output_type": "execute_result"
    }
   ],
   "source": [
    "res.content"
   ]
  },
  {
   "cell_type": "code",
   "execution_count": 5,
   "metadata": {},
   "outputs": [
    {
     "data": {
      "text/plain": [
       "200"
      ]
     },
     "execution_count": 5,
     "metadata": {},
     "output_type": "execute_result"
    }
   ],
   "source": [
    "res.status_code"
   ]
  },
  {
   "cell_type": "code",
   "execution_count": 6,
   "metadata": {},
   "outputs": [
    {
     "data": {
      "text/plain": [
       "{'comMsgHeader': {'responseMsgID': None,\n",
       "  'responseTime': None,\n",
       "  'requestMsgID': None,\n",
       "  'returnCode': None,\n",
       "  'successYN': None,\n",
       "  'errMsg': None},\n",
       " 'msgHeader': {'headerMsg': '정상적으로 처리되었습니다.', 'headerCd': '0', 'itemCount': 0},\n",
       " 'msgBody': {'itemList': [{'busRouteId': '100100564',\n",
       "    'busRouteNm': '320',\n",
       "    'busRouteAbrv': '320',\n",
       "    'length': '39.2',\n",
       "    'routeType': '3',\n",
       "    'stStationNm': '복정역환승센터',\n",
       "    'edStationNm': '중랑구청',\n",
       "    'term': '9',\n",
       "    'lastBusYn': ' ',\n",
       "    'lastBusTm': '20230329230000',\n",
       "    'firstBusTm': '20230329040000',\n",
       "    'lastLowTm': '20201130224000',\n",
       "    'firstLowTm': '              ',\n",
       "    'corpNm': '남성버스  02-401-1359'}]}}"
      ]
     },
     "execution_count": 6,
     "metadata": {},
     "output_type": "execute_result"
    }
   ],
   "source": [
    "res.json()"
   ]
  },
  {
   "cell_type": "code",
   "execution_count": null,
   "metadata": {},
   "outputs": [],
   "source": []
  }
 ],
 "metadata": {
  "kernelspec": {
   "display_name": "gtfs_env",
   "language": "python",
   "name": "python3"
  },
  "language_info": {
   "codemirror_mode": {
    "name": "ipython",
    "version": 3
   },
   "file_extension": ".py",
   "mimetype": "text/x-python",
   "name": "python",
   "nbconvert_exporter": "python",
   "pygments_lexer": "ipython3",
   "version": "3.10.6"
  },
  "orig_nbformat": 4
 },
 "nbformat": 4,
 "nbformat_minor": 2
}

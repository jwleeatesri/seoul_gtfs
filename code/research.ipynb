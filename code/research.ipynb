{
 "cells": [
  {
   "cell_type": "code",
   "execution_count": 1,
   "metadata": {},
   "outputs": [],
   "source": [
    "import numpy as np\n",
    "import pandas as pd"
   ]
  },
  {
   "cell_type": "code",
   "execution_count": 2,
   "metadata": {},
   "outputs": [],
   "source": [
    "%load_ext autoreload\n",
    "%autoreload 2"
   ]
  },
  {
   "cell_type": "code",
   "execution_count": 6,
   "metadata": {},
   "outputs": [],
   "source": [
    "bus_routes = pd.read_excel(\"../source/bus.xlsx\")"
   ]
  },
  {
   "cell_type": "code",
   "execution_count": 9,
   "metadata": {},
   "outputs": [],
   "source": [
    "bus_routes.columns=[\"agency\",\"route_no\",\"type\",\"start\",\"end\",\"num_buses_total\",\"num_buses_active\",\"num_buses_wait\",\"distance\",\"hour_active\",\"num_runs\",\"min_run\",\"max_run\",\"first_time\",\"end_time\"]"
   ]
  },
  {
   "cell_type": "code",
   "execution_count": 10,
   "metadata": {},
   "outputs": [
    {
     "data": {
      "text/html": [
       "<div>\n",
       "<style scoped>\n",
       "    .dataframe tbody tr th:only-of-type {\n",
       "        vertical-align: middle;\n",
       "    }\n",
       "\n",
       "    .dataframe tbody tr th {\n",
       "        vertical-align: top;\n",
       "    }\n",
       "\n",
       "    .dataframe thead th {\n",
       "        text-align: right;\n",
       "    }\n",
       "</style>\n",
       "<table border=\"1\" class=\"dataframe\">\n",
       "  <thead>\n",
       "    <tr style=\"text-align: right;\">\n",
       "      <th></th>\n",
       "      <th>agency</th>\n",
       "      <th>route_no</th>\n",
       "      <th>type</th>\n",
       "      <th>start</th>\n",
       "      <th>end</th>\n",
       "      <th>num_buses_total</th>\n",
       "      <th>num_buses_active</th>\n",
       "      <th>num_buses_wait</th>\n",
       "      <th>distance</th>\n",
       "      <th>hour_active</th>\n",
       "      <th>num_runs</th>\n",
       "      <th>min_run</th>\n",
       "      <th>max_run</th>\n",
       "      <th>first_time</th>\n",
       "      <th>end_time</th>\n",
       "    </tr>\n",
       "  </thead>\n",
       "  <tbody>\n",
       "    <tr>\n",
       "      <th>0</th>\n",
       "      <td>북부운수</td>\n",
       "      <td>1</td>\n",
       "      <td>순환</td>\n",
       "      <td>남산예장버스환승주차장</td>\n",
       "      <td>남산예장버스환승주차장</td>\n",
       "      <td>12</td>\n",
       "      <td>10</td>\n",
       "      <td>2</td>\n",
       "      <td>16.00</td>\n",
       "      <td>60</td>\n",
       "      <td>120</td>\n",
       "      <td>7</td>\n",
       "      <td>10</td>\n",
       "      <td>0630</td>\n",
       "      <td>2300</td>\n",
       "    </tr>\n",
       "    <tr>\n",
       "      <th>1</th>\n",
       "      <td>한성여객</td>\n",
       "      <td>100</td>\n",
       "      <td>간선</td>\n",
       "      <td>하계동</td>\n",
       "      <td>용산구청</td>\n",
       "      <td>30</td>\n",
       "      <td>28</td>\n",
       "      <td>2</td>\n",
       "      <td>57.09</td>\n",
       "      <td>231</td>\n",
       "      <td>112</td>\n",
       "      <td>8</td>\n",
       "      <td>12</td>\n",
       "      <td>0400</td>\n",
       "      <td>2230</td>\n",
       "    </tr>\n",
       "    <tr>\n",
       "      <th>2</th>\n",
       "      <td>동아운수</td>\n",
       "      <td>101</td>\n",
       "      <td>간선</td>\n",
       "      <td>우이동</td>\n",
       "      <td>서소문</td>\n",
       "      <td>23</td>\n",
       "      <td>22</td>\n",
       "      <td>1</td>\n",
       "      <td>37.81</td>\n",
       "      <td>170</td>\n",
       "      <td>119</td>\n",
       "      <td>5</td>\n",
       "      <td>11</td>\n",
       "      <td>0400</td>\n",
       "      <td>2300</td>\n",
       "    </tr>\n",
       "    <tr>\n",
       "      <th>3</th>\n",
       "      <td>한성운수</td>\n",
       "      <td>101</td>\n",
       "      <td>간선</td>\n",
       "      <td>우이동</td>\n",
       "      <td>서소문</td>\n",
       "      <td>9</td>\n",
       "      <td>8</td>\n",
       "      <td>1</td>\n",
       "      <td>37.81</td>\n",
       "      <td>165</td>\n",
       "      <td>41</td>\n",
       "      <td>6</td>\n",
       "      <td>12</td>\n",
       "      <td>0400</td>\n",
       "      <td>2300</td>\n",
       "    </tr>\n",
       "    <tr>\n",
       "      <th>4</th>\n",
       "      <td>삼화상운</td>\n",
       "      <td>102</td>\n",
       "      <td>간선</td>\n",
       "      <td>상계주공7단지</td>\n",
       "      <td>동대문</td>\n",
       "      <td>2</td>\n",
       "      <td>2</td>\n",
       "      <td>0</td>\n",
       "      <td>30.20</td>\n",
       "      <td>126</td>\n",
       "      <td>14</td>\n",
       "      <td>8</td>\n",
       "      <td>12</td>\n",
       "      <td>0400</td>\n",
       "      <td>2310</td>\n",
       "    </tr>\n",
       "  </tbody>\n",
       "</table>\n",
       "</div>"
      ],
      "text/plain": [
       "  agency route_no type        start          end  num_buses_total  \\\n",
       "0   북부운수        1   순환  남산예장버스환승주차장  남산예장버스환승주차장               12   \n",
       "1   한성여객      100   간선          하계동         용산구청               30   \n",
       "2   동아운수      101   간선          우이동          서소문               23   \n",
       "3   한성운수      101   간선          우이동          서소문                9   \n",
       "4   삼화상운      102   간선      상계주공7단지          동대문                2   \n",
       "\n",
       "   num_buses_active  num_buses_wait  distance  hour_active  num_runs  min_run  \\\n",
       "0                10               2     16.00           60       120        7   \n",
       "1                28               2     57.09          231       112        8   \n",
       "2                22               1     37.81          170       119        5   \n",
       "3                 8               1     37.81          165        41        6   \n",
       "4                 2               0     30.20          126        14        8   \n",
       "\n",
       "   max_run first_time end_time  \n",
       "0       10       0630     2300  \n",
       "1       12       0400     2230  \n",
       "2       11       0400     2300  \n",
       "3       12       0400     2300  \n",
       "4       12       0400     2310  "
      ]
     },
     "execution_count": 10,
     "metadata": {},
     "output_type": "execute_result"
    }
   ],
   "source": [
    "bus_routes.head()"
   ]
  },
  {
   "cell_type": "code",
   "execution_count": 12,
   "metadata": {},
   "outputs": [
    {
     "data": {
      "text/plain": [
       "65"
      ]
     },
     "execution_count": 12,
     "metadata": {},
     "output_type": "execute_result"
    }
   ],
   "source": [
    "len(bus_routes[\"agency\"].value_counts())"
   ]
  },
  {
   "cell_type": "code",
   "execution_count": 18,
   "metadata": {},
   "outputs": [],
   "source": [
    "from builds import build_agency"
   ]
  },
  {
   "cell_type": "code",
   "execution_count": 20,
   "metadata": {},
   "outputs": [],
   "source": [
    "from pathlib import Path"
   ]
  },
  {
   "cell_type": "code",
   "execution_count": 21,
   "metadata": {},
   "outputs": [],
   "source": [
    "bus_path = Path(r\"/home/ljin/Projects/seoul_gtfs/source/bus.xlsx\")"
   ]
  }
 ],
 "metadata": {
  "kernelspec": {
   "display_name": "gtfs_env",
   "language": "python",
   "name": "python3"
  },
  "language_info": {
   "codemirror_mode": {
    "name": "ipython",
    "version": 3
   },
   "file_extension": ".py",
   "mimetype": "text/x-python",
   "name": "python",
   "nbconvert_exporter": "python",
   "pygments_lexer": "ipython3",
   "version": "3.10.6"
  },
  "orig_nbformat": 4
 },
 "nbformat": 4,
 "nbformat_minor": 2
}

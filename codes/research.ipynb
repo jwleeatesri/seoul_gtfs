{
 "cells": [
  {
   "cell_type": "code",
   "execution_count": 1,
   "metadata": {},
   "outputs": [],
   "source": [
    "import numpy as np\n",
    "import pandas as pd"
   ]
  },
  {
   "cell_type": "code",
   "execution_count": 2,
   "metadata": {},
   "outputs": [],
   "source": [
    "%load_ext autoreload\n",
    "%autoreload 2"
   ]
  },
  {
   "cell_type": "code",
   "execution_count": 6,
   "metadata": {},
   "outputs": [],
   "source": [
    "bus_routes = pd.read_excel(\"../source/bus.xlsx\")"
   ]
  },
  {
   "cell_type": "code",
   "execution_count": 9,
   "metadata": {},
   "outputs": [],
   "source": [
    "bus_routes.columns=[\"agency\",\"route_no\",\"type\",\"start\",\"end\",\"num_buses_total\",\"num_buses_active\",\"num_buses_wait\",\"distance\",\"hour_active\",\"num_runs\",\"min_run\",\"max_run\",\"first_time\",\"end_time\"]"
   ]
  },
  {
   "cell_type": "code",
   "execution_count": 10,
   "metadata": {},
   "outputs": [
    {
     "data": {
      "text/html": [
       "<div>\n",
       "<style scoped>\n",
       "    .dataframe tbody tr th:only-of-type {\n",
       "        vertical-align: middle;\n",
       "    }\n",
       "\n",
       "    .dataframe tbody tr th {\n",
       "        vertical-align: top;\n",
       "    }\n",
       "\n",
       "    .dataframe thead th {\n",
       "        text-align: right;\n",
       "    }\n",
       "</style>\n",
       "<table border=\"1\" class=\"dataframe\">\n",
       "  <thead>\n",
       "    <tr style=\"text-align: right;\">\n",
       "      <th></th>\n",
       "      <th>agency</th>\n",
       "      <th>route_no</th>\n",
       "      <th>type</th>\n",
       "      <th>start</th>\n",
       "      <th>end</th>\n",
       "      <th>num_buses_total</th>\n",
       "      <th>num_buses_active</th>\n",
       "      <th>num_buses_wait</th>\n",
       "      <th>distance</th>\n",
       "      <th>hour_active</th>\n",
       "      <th>num_runs</th>\n",
       "      <th>min_run</th>\n",
       "      <th>max_run</th>\n",
       "      <th>first_time</th>\n",
       "      <th>end_time</th>\n",
       "    </tr>\n",
       "  </thead>\n",
       "  <tbody>\n",
       "    <tr>\n",
       "      <th>0</th>\n",
       "      <td>북부운수</td>\n",
       "      <td>1</td>\n",
       "      <td>순환</td>\n",
       "      <td>남산예장버스환승주차장</td>\n",
       "      <td>남산예장버스환승주차장</td>\n",
       "      <td>12</td>\n",
       "      <td>10</td>\n",
       "      <td>2</td>\n",
       "      <td>16.00</td>\n",
       "      <td>60</td>\n",
       "      <td>120</td>\n",
       "      <td>7</td>\n",
       "      <td>10</td>\n",
       "      <td>0630</td>\n",
       "      <td>2300</td>\n",
       "    </tr>\n",
       "    <tr>\n",
       "      <th>1</th>\n",
       "      <td>한성여객</td>\n",
       "      <td>100</td>\n",
       "      <td>간선</td>\n",
       "      <td>하계동</td>\n",
       "      <td>용산구청</td>\n",
       "      <td>30</td>\n",
       "      <td>28</td>\n",
       "      <td>2</td>\n",
       "      <td>57.09</td>\n",
       "      <td>231</td>\n",
       "      <td>112</td>\n",
       "      <td>8</td>\n",
       "      <td>12</td>\n",
       "      <td>0400</td>\n",
       "      <td>2230</td>\n",
       "    </tr>\n",
       "    <tr>\n",
       "      <th>2</th>\n",
       "      <td>동아운수</td>\n",
       "      <td>101</td>\n",
       "      <td>간선</td>\n",
       "      <td>우이동</td>\n",
       "      <td>서소문</td>\n",
       "      <td>23</td>\n",
       "      <td>22</td>\n",
       "      <td>1</td>\n",
       "      <td>37.81</td>\n",
       "      <td>170</td>\n",
       "      <td>119</td>\n",
       "      <td>5</td>\n",
       "      <td>11</td>\n",
       "      <td>0400</td>\n",
       "      <td>2300</td>\n",
       "    </tr>\n",
       "    <tr>\n",
       "      <th>3</th>\n",
       "      <td>한성운수</td>\n",
       "      <td>101</td>\n",
       "      <td>간선</td>\n",
       "      <td>우이동</td>\n",
       "      <td>서소문</td>\n",
       "      <td>9</td>\n",
       "      <td>8</td>\n",
       "      <td>1</td>\n",
       "      <td>37.81</td>\n",
       "      <td>165</td>\n",
       "      <td>41</td>\n",
       "      <td>6</td>\n",
       "      <td>12</td>\n",
       "      <td>0400</td>\n",
       "      <td>2300</td>\n",
       "    </tr>\n",
       "    <tr>\n",
       "      <th>4</th>\n",
       "      <td>삼화상운</td>\n",
       "      <td>102</td>\n",
       "      <td>간선</td>\n",
       "      <td>상계주공7단지</td>\n",
       "      <td>동대문</td>\n",
       "      <td>2</td>\n",
       "      <td>2</td>\n",
       "      <td>0</td>\n",
       "      <td>30.20</td>\n",
       "      <td>126</td>\n",
       "      <td>14</td>\n",
       "      <td>8</td>\n",
       "      <td>12</td>\n",
       "      <td>0400</td>\n",
       "      <td>2310</td>\n",
       "    </tr>\n",
       "  </tbody>\n",
       "</table>\n",
       "</div>"
      ],
      "text/plain": [
       "  agency route_no type        start          end  num_buses_total  \\\n",
       "0   북부운수        1   순환  남산예장버스환승주차장  남산예장버스환승주차장               12   \n",
       "1   한성여객      100   간선          하계동         용산구청               30   \n",
       "2   동아운수      101   간선          우이동          서소문               23   \n",
       "3   한성운수      101   간선          우이동          서소문                9   \n",
       "4   삼화상운      102   간선      상계주공7단지          동대문                2   \n",
       "\n",
       "   num_buses_active  num_buses_wait  distance  hour_active  num_runs  min_run  \\\n",
       "0                10               2     16.00           60       120        7   \n",
       "1                28               2     57.09          231       112        8   \n",
       "2                22               1     37.81          170       119        5   \n",
       "3                 8               1     37.81          165        41        6   \n",
       "4                 2               0     30.20          126        14        8   \n",
       "\n",
       "   max_run first_time end_time  \n",
       "0       10       0630     2300  \n",
       "1       12       0400     2230  \n",
       "2       11       0400     2300  \n",
       "3       12       0400     2300  \n",
       "4       12       0400     2310  "
      ]
     },
     "execution_count": 10,
     "metadata": {},
     "output_type": "execute_result"
    }
   ],
   "source": [
    "bus_routes.head()"
   ]
  },
  {
   "cell_type": "code",
   "execution_count": 12,
   "metadata": {},
   "outputs": [
    {
     "data": {
      "text/plain": [
       "65"
      ]
     },
     "execution_count": 12,
     "metadata": {},
     "output_type": "execute_result"
    }
   ],
   "source": [
    "len(bus_routes[\"agency\"].value_counts())"
   ]
  },
  {
   "cell_type": "code",
   "execution_count": 18,
   "metadata": {},
   "outputs": [],
   "source": [
    "from builds import build_agency"
   ]
  },
  {
   "cell_type": "code",
   "execution_count": 20,
   "metadata": {},
   "outputs": [],
   "source": [
    "from pathlib import Path"
   ]
  },
  {
   "cell_type": "code",
   "execution_count": 21,
   "metadata": {},
   "outputs": [],
   "source": [
    "bus_path = Path(r\"/home/ljin/Projects/seoul_gtfs/source/bus.xlsx\")"
   ]
  },
  {
   "cell_type": "code",
   "execution_count": 1,
   "metadata": {},
   "outputs": [],
   "source": [
    "import requests\n",
    "from dotenv import load_dotenv\n",
    "import pandas as pd\n",
    "import os"
   ]
  },
  {
   "cell_type": "code",
   "execution_count": 2,
   "metadata": {},
   "outputs": [
    {
     "data": {
      "text/plain": [
       "True"
      ]
     },
     "execution_count": 2,
     "metadata": {},
     "output_type": "execute_result"
    }
   ],
   "source": [
    "load_dotenv()"
   ]
  },
  {
   "cell_type": "code",
   "execution_count": 3,
   "metadata": {},
   "outputs": [],
   "source": [
    "res = requests.get(\n",
    "    url=f\"{os.getenv('BUS_BASE_URL')}getRouteInfo\",\n",
    "    params={\n",
    "        \"ServiceKey\":os.getenv(\"DATA_KEY\"),\n",
    "        \"busRouteId\":\"100100564\",\n",
    "        \"resultType\":\"json\"\n",
    "    }\n",
    ")"
   ]
  },
  {
   "cell_type": "code",
   "execution_count": 4,
   "metadata": {},
   "outputs": [
    {
     "data": {
      "text/plain": [
       "b'{\"comMsgHeader\":{\"responseMsgID\":null,\"responseTime\":null,\"requestMsgID\":null,\"returnCode\":null,\"successYN\":null,\"errMsg\":null},\"msgHeader\":{\"headerMsg\":\"\\xec\\xa0\\x95\\xec\\x83\\x81\\xec\\xa0\\x81\\xec\\x9c\\xbc\\xeb\\xa1\\x9c \\xec\\xb2\\x98\\xeb\\xa6\\xac\\xeb\\x90\\x98\\xec\\x97\\x88\\xec\\x8a\\xb5\\xeb\\x8b\\x88\\xeb\\x8b\\xa4.\",\"headerCd\":\"0\",\"itemCount\":0},\"msgBody\":{\"itemList\":[{\"busRouteId\":\"100100564\",\"busRouteNm\":\"320\",\"busRouteAbrv\":\"320\",\"length\":\"39.2\",\"routeType\":\"3\",\"stStationNm\":\"\\xeb\\xb3\\xb5\\xec\\xa0\\x95\\xec\\x97\\xad\\xed\\x99\\x98\\xec\\x8a\\xb9\\xec\\x84\\xbc\\xed\\x84\\xb0\",\"edStationNm\":\"\\xec\\xa4\\x91\\xeb\\x9e\\x91\\xea\\xb5\\xac\\xec\\xb2\\xad\",\"term\":\"9\",\"lastBusYn\":\" \",\"lastBusTm\":\"20230329230000\",\"firstBusTm\":\"20230329040000\",\"lastLowTm\":\"20201130224000\",\"firstLowTm\":\"              \",\"corpNm\":\"\\xeb\\x82\\xa8\\xec\\x84\\xb1\\xeb\\xb2\\x84\\xec\\x8a\\xa4  02-401-1359\"}]}}'"
      ]
     },
     "execution_count": 4,
     "metadata": {},
     "output_type": "execute_result"
    }
   ],
   "source": [
    "res.content"
   ]
  },
  {
   "cell_type": "code",
   "execution_count": 5,
   "metadata": {},
   "outputs": [
    {
     "data": {
      "text/plain": [
       "200"
      ]
     },
     "execution_count": 5,
     "metadata": {},
     "output_type": "execute_result"
    }
   ],
   "source": [
    "res.status_code"
   ]
  },
  {
   "cell_type": "code",
   "execution_count": 6,
   "metadata": {},
   "outputs": [
    {
     "data": {
      "text/plain": [
       "{'comMsgHeader': {'responseMsgID': None,\n",
       "  'responseTime': None,\n",
       "  'requestMsgID': None,\n",
       "  'returnCode': None,\n",
       "  'successYN': None,\n",
       "  'errMsg': None},\n",
       " 'msgHeader': {'headerMsg': '정상적으로 처리되었습니다.', 'headerCd': '0', 'itemCount': 0},\n",
       " 'msgBody': {'itemList': [{'busRouteId': '100100564',\n",
       "    'busRouteNm': '320',\n",
       "    'busRouteAbrv': '320',\n",
       "    'length': '39.2',\n",
       "    'routeType': '3',\n",
       "    'stStationNm': '복정역환승센터',\n",
       "    'edStationNm': '중랑구청',\n",
       "    'term': '9',\n",
       "    'lastBusYn': ' ',\n",
       "    'lastBusTm': '20230329230000',\n",
       "    'firstBusTm': '20230329040000',\n",
       "    'lastLowTm': '20201130224000',\n",
       "    'firstLowTm': '              ',\n",
       "    'corpNm': '남성버스  02-401-1359'}]}}"
      ]
     },
     "execution_count": 6,
     "metadata": {},
     "output_type": "execute_result"
    }
   ],
   "source": [
    "res.json()"
   ]
  },
  {
   "cell_type": "code",
   "execution_count": 6,
   "metadata": {},
   "outputs": [],
   "source": [
    "%load_ext autoreload\n",
    "%autoreload 2"
   ]
  },
  {
   "cell_type": "code",
   "execution_count": 7,
   "metadata": {},
   "outputs": [],
   "source": [
    "from builds import get_bus_route_list, read_base_data"
   ]
  },
  {
   "cell_type": "code",
   "execution_count": 8,
   "metadata": {},
   "outputs": [],
   "source": [
    "from pathlib import Path\n",
    "base_file = Path(r\"/home/ljin/Projects/seoul_gtfs/source/bus_routes.xlsx\")"
   ]
  },
  {
   "cell_type": "code",
   "execution_count": 9,
   "metadata": {},
   "outputs": [],
   "source": [
    "df = read_base_data(base_file)"
   ]
  },
  {
   "cell_type": "code",
   "execution_count": 21,
   "metadata": {},
   "outputs": [
    {
     "data": {
      "text/html": [
       "<div>\n",
       "<style scoped>\n",
       "    .dataframe tbody tr th:only-of-type {\n",
       "        vertical-align: middle;\n",
       "    }\n",
       "\n",
       "    .dataframe tbody tr th {\n",
       "        vertical-align: top;\n",
       "    }\n",
       "\n",
       "    .dataframe thead th {\n",
       "        text-align: right;\n",
       "    }\n",
       "</style>\n",
       "<table border=\"1\" class=\"dataframe\">\n",
       "  <thead>\n",
       "    <tr style=\"text-align: right;\">\n",
       "      <th></th>\n",
       "      <th>route_name</th>\n",
       "      <th>route_id</th>\n",
       "    </tr>\n",
       "  </thead>\n",
       "  <tbody>\n",
       "    <tr>\n",
       "      <th>387</th>\n",
       "      <td>9401-1</td>\n",
       "      <td>113000004</td>\n",
       "    </tr>\n",
       "    <tr>\n",
       "      <th>397</th>\n",
       "      <td>N13</td>\n",
       "      <td>100100593</td>\n",
       "    </tr>\n",
       "    <tr>\n",
       "      <th>398</th>\n",
       "      <td>N15</td>\n",
       "      <td>100100610</td>\n",
       "    </tr>\n",
       "    <tr>\n",
       "      <th>399</th>\n",
       "      <td>N16</td>\n",
       "      <td>100100592</td>\n",
       "    </tr>\n",
       "    <tr>\n",
       "      <th>400</th>\n",
       "      <td>N26</td>\n",
       "      <td>100100586</td>\n",
       "    </tr>\n",
       "    <tr>\n",
       "      <th>...</th>\n",
       "      <td>...</td>\n",
       "      <td>...</td>\n",
       "    </tr>\n",
       "    <tr>\n",
       "      <th>661</th>\n",
       "      <td>종로12</td>\n",
       "      <td>100900009</td>\n",
       "    </tr>\n",
       "    <tr>\n",
       "      <th>662</th>\n",
       "      <td>종로13</td>\n",
       "      <td>100900002</td>\n",
       "    </tr>\n",
       "    <tr>\n",
       "      <th>663</th>\n",
       "      <td>중랑01</td>\n",
       "      <td>106900001</td>\n",
       "    </tr>\n",
       "    <tr>\n",
       "      <th>664</th>\n",
       "      <td>중랑02</td>\n",
       "      <td>106900002</td>\n",
       "    </tr>\n",
       "    <tr>\n",
       "      <th>665</th>\n",
       "      <td>청와대A01(자율주행)</td>\n",
       "      <td>100000020</td>\n",
       "    </tr>\n",
       "  </tbody>\n",
       "</table>\n",
       "<p>270 rows × 2 columns</p>\n",
       "</div>"
      ],
      "text/plain": [
       "       route_name   route_id\n",
       "387        9401-1  113000004\n",
       "397           N13  100100593\n",
       "398           N15  100100610\n",
       "399           N16  100100592\n",
       "400           N26  100100586\n",
       "..            ...        ...\n",
       "661          종로12  100900009\n",
       "662          종로13  100900002\n",
       "663          중랑01  106900001\n",
       "664          중랑02  106900002\n",
       "665  청와대A01(자율주행)  100000020\n",
       "\n",
       "[270 rows x 2 columns]"
      ]
     },
     "execution_count": 21,
     "metadata": {},
     "output_type": "execute_result"
    }
   ],
   "source": [
    "df.loc[df[\"route_name\"].str.contains(r\"\\D+\\d{1,3}\")]"
   ]
  },
  {
   "cell_type": "code",
   "execution_count": 10,
   "metadata": {},
   "outputs": [
    {
     "data": {
      "text/plain": [
       "Index(['route_name', 'route_id'], dtype='object')"
      ]
     },
     "execution_count": 10,
     "metadata": {},
     "output_type": "execute_result"
    }
   ],
   "source": [
    "df.columns"
   ]
  },
  {
   "cell_type": "code",
   "execution_count": 22,
   "metadata": {},
   "outputs": [],
   "source": [
    "routes = get_bus_route_list(df)"
   ]
  },
  {
   "cell_type": "code",
   "execution_count": 23,
   "metadata": {},
   "outputs": [
    {
     "data": {
      "text/html": [
       "<div>\n",
       "<style scoped>\n",
       "    .dataframe tbody tr th:only-of-type {\n",
       "        vertical-align: middle;\n",
       "    }\n",
       "\n",
       "    .dataframe tbody tr th {\n",
       "        vertical-align: top;\n",
       "    }\n",
       "\n",
       "    .dataframe thead th {\n",
       "        text-align: right;\n",
       "    }\n",
       "</style>\n",
       "<table border=\"1\" class=\"dataframe\">\n",
       "  <thead>\n",
       "    <tr style=\"text-align: right;\">\n",
       "      <th></th>\n",
       "      <th>route_name</th>\n",
       "      <th>route_id</th>\n",
       "      <th>busRouteAbrv</th>\n",
       "      <th>busRouteNm</th>\n",
       "      <th>length</th>\n",
       "      <th>routeType</th>\n",
       "      <th>stStationNm</th>\n",
       "      <th>edStationNm</th>\n",
       "      <th>term</th>\n",
       "      <th>firstBusTm</th>\n",
       "      <th>lastBusTm</th>\n",
       "      <th>corpNm</th>\n",
       "    </tr>\n",
       "  </thead>\n",
       "  <tbody>\n",
       "    <tr>\n",
       "      <th>0</th>\n",
       "      <td>0017</td>\n",
       "      <td>100100124</td>\n",
       "      <td>0017</td>\n",
       "      <td>0017</td>\n",
       "      <td>12.2</td>\n",
       "      <td>4</td>\n",
       "      <td>청암동</td>\n",
       "      <td>이촌동</td>\n",
       "      <td>12</td>\n",
       "      <td>20230331051500</td>\n",
       "      <td>20230331233000</td>\n",
       "      <td>보광교통  02-307-5600</td>\n",
       "    </tr>\n",
       "    <tr>\n",
       "      <th>1</th>\n",
       "      <td>01</td>\n",
       "      <td>100100001</td>\n",
       "      <td>6001</td>\n",
       "      <td>6001</td>\n",
       "      <td>146</td>\n",
       "      <td>1</td>\n",
       "      <td>인천공항</td>\n",
       "      <td>동대문</td>\n",
       "      <td>25</td>\n",
       "      <td>20230331043000</td>\n",
       "      <td>20230331225000</td>\n",
       "      <td>공항리무진  02-2664-9898</td>\n",
       "    </tr>\n",
       "    <tr>\n",
       "      <th>2</th>\n",
       "      <td>0411</td>\n",
       "      <td>104000012</td>\n",
       "      <td>0411</td>\n",
       "      <td>0411</td>\n",
       "      <td>44.3</td>\n",
       "      <td>4</td>\n",
       "      <td>용산차고지</td>\n",
       "      <td>AT센터.양재꽃시장</td>\n",
       "      <td>14</td>\n",
       "      <td>20230331042000</td>\n",
       "      <td>20230331223000</td>\n",
       "      <td>대원여객  02-3436-6366</td>\n",
       "    </tr>\n",
       "    <tr>\n",
       "      <th>3</th>\n",
       "      <td>100</td>\n",
       "      <td>100100549</td>\n",
       "      <td>6100</td>\n",
       "      <td>6100</td>\n",
       "      <td>184</td>\n",
       "      <td>1</td>\n",
       "      <td>망우역</td>\n",
       "      <td>인천공항</td>\n",
       "      <td>55</td>\n",
       "      <td>20230331042000</td>\n",
       "      <td>20230331194000</td>\n",
       "      <td>한국도심공항  02-551-0077</td>\n",
       "    </tr>\n",
       "    <tr>\n",
       "      <th>4</th>\n",
       "      <td>101</td>\n",
       "      <td>100100006</td>\n",
       "      <td>6101</td>\n",
       "      <td>6101</td>\n",
       "      <td>92</td>\n",
       "      <td>1</td>\n",
       "      <td>창동역</td>\n",
       "      <td>김포공항</td>\n",
       "      <td>40</td>\n",
       "      <td>20230331042500</td>\n",
       "      <td>20230331200500</td>\n",
       "      <td>한국도심공항  02-551-0077</td>\n",
       "    </tr>\n",
       "    <tr>\n",
       "      <th>...</th>\n",
       "      <td>...</td>\n",
       "      <td>...</td>\n",
       "      <td>...</td>\n",
       "      <td>...</td>\n",
       "      <td>...</td>\n",
       "      <td>...</td>\n",
       "      <td>...</td>\n",
       "      <td>...</td>\n",
       "      <td>...</td>\n",
       "      <td>...</td>\n",
       "      <td>...</td>\n",
       "      <td>...</td>\n",
       "    </tr>\n",
       "    <tr>\n",
       "      <th>661</th>\n",
       "      <td>종로12</td>\n",
       "      <td>100900009</td>\n",
       "      <td>종로12</td>\n",
       "      <td>종로12</td>\n",
       "      <td>5.4</td>\n",
       "      <td>2</td>\n",
       "      <td>서울대병원</td>\n",
       "      <td>종로3가</td>\n",
       "      <td>9</td>\n",
       "      <td>20230331060000</td>\n",
       "      <td>20230331233000</td>\n",
       "      <td>은수교통  02-3673-2791</td>\n",
       "    </tr>\n",
       "    <tr>\n",
       "      <th>662</th>\n",
       "      <td>종로13</td>\n",
       "      <td>100900002</td>\n",
       "      <td>종로13</td>\n",
       "      <td>종로13</td>\n",
       "      <td>7.5</td>\n",
       "      <td>2</td>\n",
       "      <td>평창동주민센터</td>\n",
       "      <td>부암슈퍼</td>\n",
       "      <td>15</td>\n",
       "      <td>20230331055000</td>\n",
       "      <td>20230331223000</td>\n",
       "      <td>약수교통  02-915-9270</td>\n",
       "    </tr>\n",
       "    <tr>\n",
       "      <th>663</th>\n",
       "      <td>중랑01</td>\n",
       "      <td>106900001</td>\n",
       "      <td>중랑01</td>\n",
       "      <td>중랑01</td>\n",
       "      <td>3.6</td>\n",
       "      <td>2</td>\n",
       "      <td>중화1동동아약국</td>\n",
       "      <td>신이문역</td>\n",
       "      <td>25</td>\n",
       "      <td>20230331060000</td>\n",
       "      <td>20230331235000</td>\n",
       "      <td>금창운수  02-971-3470</td>\n",
       "    </tr>\n",
       "    <tr>\n",
       "      <th>664</th>\n",
       "      <td>중랑02</td>\n",
       "      <td>106900002</td>\n",
       "      <td>중랑02</td>\n",
       "      <td>중랑02</td>\n",
       "      <td>7.1</td>\n",
       "      <td>2</td>\n",
       "      <td>진로아파트</td>\n",
       "      <td>한신아파트</td>\n",
       "      <td>8</td>\n",
       "      <td>20230331060000</td>\n",
       "      <td>20230331231500</td>\n",
       "      <td>중랑운수  02-2209-3412</td>\n",
       "    </tr>\n",
       "    <tr>\n",
       "      <th>665</th>\n",
       "      <td>청와대A01(자율주행)</td>\n",
       "      <td>100000020</td>\n",
       "      <td>청와A01</td>\n",
       "      <td>청와대A01(자율주행)</td>\n",
       "      <td>2.6</td>\n",
       "      <td>5</td>\n",
       "      <td>경복궁역</td>\n",
       "      <td>청와대</td>\n",
       "      <td>15</td>\n",
       "      <td>20230331090000</td>\n",
       "      <td>20230331164500</td>\n",
       "      <td>에스유엠  031-1668-5881</td>\n",
       "    </tr>\n",
       "  </tbody>\n",
       "</table>\n",
       "<p>666 rows × 12 columns</p>\n",
       "</div>"
      ],
      "text/plain": [
       "       route_name   route_id busRouteAbrv    busRouteNm length routeType  \\\n",
       "0            0017  100100124         0017          0017   12.2         4   \n",
       "1              01  100100001         6001          6001    146         1   \n",
       "2            0411  104000012         0411          0411   44.3         4   \n",
       "3             100  100100549         6100          6100    184         1   \n",
       "4             101  100100006         6101          6101     92         1   \n",
       "..            ...        ...          ...           ...    ...       ...   \n",
       "661          종로12  100900009         종로12          종로12    5.4         2   \n",
       "662          종로13  100900002         종로13          종로13    7.5         2   \n",
       "663          중랑01  106900001         중랑01          중랑01    3.6         2   \n",
       "664          중랑02  106900002         중랑02          중랑02    7.1         2   \n",
       "665  청와대A01(자율주행)  100000020        청와A01  청와대A01(자율주행)    2.6         5   \n",
       "\n",
       "    stStationNm edStationNm term      firstBusTm       lastBusTm  \\\n",
       "0           청암동         이촌동   12  20230331051500  20230331233000   \n",
       "1          인천공항         동대문   25  20230331043000  20230331225000   \n",
       "2         용산차고지  AT센터.양재꽃시장   14  20230331042000  20230331223000   \n",
       "3           망우역        인천공항   55  20230331042000  20230331194000   \n",
       "4           창동역        김포공항   40  20230331042500  20230331200500   \n",
       "..          ...         ...  ...             ...             ...   \n",
       "661       서울대병원        종로3가    9  20230331060000  20230331233000   \n",
       "662     평창동주민센터        부암슈퍼   15  20230331055000  20230331223000   \n",
       "663    중화1동동아약국        신이문역   25  20230331060000  20230331235000   \n",
       "664       진로아파트       한신아파트    8  20230331060000  20230331231500   \n",
       "665        경복궁역         청와대   15  20230331090000  20230331164500   \n",
       "\n",
       "                  corpNm  \n",
       "0      보광교통  02-307-5600  \n",
       "1    공항리무진  02-2664-9898  \n",
       "2     대원여객  02-3436-6366  \n",
       "3    한국도심공항  02-551-0077  \n",
       "4    한국도심공항  02-551-0077  \n",
       "..                   ...  \n",
       "661   은수교통  02-3673-2791  \n",
       "662    약수교통  02-915-9270  \n",
       "663    금창운수  02-971-3470  \n",
       "664   중랑운수  02-2209-3412  \n",
       "665  에스유엠  031-1668-5881  \n",
       "\n",
       "[666 rows x 12 columns]"
      ]
     },
     "execution_count": 23,
     "metadata": {},
     "output_type": "execute_result"
    }
   ],
   "source": [
    "routes"
   ]
  },
  {
   "cell_type": "code",
   "execution_count": 15,
   "metadata": {},
   "outputs": [],
   "source": [
    "import pandas as pd\n",
    "def try_this(series:pd.Series) -> tuple:\n",
    "    sam = series[\"x\"] \n",
    "    lst = [1,2,3,4,5]\n",
    "    return [sam*l for l in lst]"
   ]
  },
  {
   "cell_type": "code",
   "execution_count": 13,
   "metadata": {},
   "outputs": [],
   "source": [
    "a = pd.DataFrame([{\"x\":10,\"y\":2},{\"x\":31,\"y\":123},{\"x\":512,\"y\":13}])"
   ]
  },
  {
   "cell_type": "code",
   "execution_count": 14,
   "metadata": {},
   "outputs": [
    {
     "data": {
      "text/plain": [
       "0             [10, 20, 30, 40, 50]\n",
       "1           [31, 62, 93, 124, 155]\n",
       "2    [512, 1024, 1536, 2048, 2560]\n",
       "dtype: object"
      ]
     },
     "execution_count": 14,
     "metadata": {},
     "output_type": "execute_result"
    }
   ],
   "source": [
    "a.apply(try_this, axis=1)"
   ]
  },
  {
   "cell_type": "code",
   "execution_count": 1,
   "metadata": {},
   "outputs": [],
   "source": [
    "import requests"
   ]
  },
  {
   "cell_type": "code",
   "execution_count": 3,
   "metadata": {},
   "outputs": [],
   "source": [
    "import os\n",
    "from dotenv import load_dotenv\n",
    "import pandas as pd\n",
    "\n",
    "load_dotenv()\n",
    "\n",
    "res = requests.get(\n",
    "    url=\"http://ws.bus.go.kr/api/rest/busRouteInfo/getRoutePath\",\n",
    "    params={\n",
    "        \"ServiceKey\":os.getenv(\"DATA_KEY\"),\n",
    "        \"busRouteId\":\"100100564\",\n",
    "        \"resultType\":\"json\"\n",
    "    }\n",
    ")"
   ]
  },
  {
   "cell_type": "code",
   "execution_count": 6,
   "metadata": {},
   "outputs": [],
   "source": [
    "df = pd.DataFrame(res.json()[\"msgBody\"][\"itemList\"])"
   ]
  },
  {
   "cell_type": "code",
   "execution_count": 7,
   "metadata": {},
   "outputs": [
    {
     "data": {
      "text/html": [
       "<div>\n",
       "<style scoped>\n",
       "    .dataframe tbody tr th:only-of-type {\n",
       "        vertical-align: middle;\n",
       "    }\n",
       "\n",
       "    .dataframe tbody tr th {\n",
       "        vertical-align: top;\n",
       "    }\n",
       "\n",
       "    .dataframe thead th {\n",
       "        text-align: right;\n",
       "    }\n",
       "</style>\n",
       "<table border=\"1\" class=\"dataframe\">\n",
       "  <thead>\n",
       "    <tr style=\"text-align: right;\">\n",
       "      <th></th>\n",
       "      <th>no</th>\n",
       "      <th>gpsX</th>\n",
       "      <th>gpsY</th>\n",
       "      <th>posX</th>\n",
       "      <th>posY</th>\n",
       "    </tr>\n",
       "  </thead>\n",
       "  <tbody>\n",
       "    <tr>\n",
       "      <th>0</th>\n",
       "      <td>1</td>\n",
       "      <td>127.127522</td>\n",
       "      <td>37.470866</td>\n",
       "      <td>211279.1235307185</td>\n",
       "      <td>441284.5625689891</td>\n",
       "    </tr>\n",
       "    <tr>\n",
       "      <th>1</th>\n",
       "      <td>2</td>\n",
       "      <td>127.127523</td>\n",
       "      <td>37.47081</td>\n",
       "      <td>211279.22039406354</td>\n",
       "      <td>441278.34810637916</td>\n",
       "    </tr>\n",
       "    <tr>\n",
       "      <th>2</th>\n",
       "      <td>3</td>\n",
       "      <td>127.127539</td>\n",
       "      <td>37.469667</td>\n",
       "      <td>211280.80734333812</td>\n",
       "      <td>441151.50597033696</td>\n",
       "    </tr>\n",
       "    <tr>\n",
       "      <th>3</th>\n",
       "      <td>4</td>\n",
       "      <td>127.126775</td>\n",
       "      <td>37.469676</td>\n",
       "      <td>211213.23027295974</td>\n",
       "      <td>441152.41350836307</td>\n",
       "    </tr>\n",
       "    <tr>\n",
       "      <th>4</th>\n",
       "      <td>5</td>\n",
       "      <td>127.126725</td>\n",
       "      <td>37.469676</td>\n",
       "      <td>211208.80777835206</td>\n",
       "      <td>441152.407556667</td>\n",
       "    </tr>\n",
       "    <tr>\n",
       "      <th>...</th>\n",
       "      <td>...</td>\n",
       "      <td>...</td>\n",
       "      <td>...</td>\n",
       "      <td>...</td>\n",
       "      <td>...</td>\n",
       "    </tr>\n",
       "    <tr>\n",
       "      <th>1046</th>\n",
       "      <td>1047</td>\n",
       "      <td>127.12758</td>\n",
       "      <td>37.470808</td>\n",
       "      <td>211284.26226245495</td>\n",
       "      <td>441278.13298492087</td>\n",
       "    </tr>\n",
       "    <tr>\n",
       "      <th>1047</th>\n",
       "      <td>1048</td>\n",
       "      <td>127.127643</td>\n",
       "      <td>37.470807</td>\n",
       "      <td>211289.83467207974</td>\n",
       "      <td>441278.0295604253</td>\n",
       "    </tr>\n",
       "    <tr>\n",
       "      <th>1048</th>\n",
       "      <td>1049</td>\n",
       "      <td>127.128817</td>\n",
       "      <td>37.470781</td>\n",
       "      <td>211393.67722895567</td>\n",
       "      <td>441275.2855976918</td>\n",
       "    </tr>\n",
       "    <tr>\n",
       "      <th>1049</th>\n",
       "      <td>1050</td>\n",
       "      <td>127.129133</td>\n",
       "      <td>37.470766</td>\n",
       "      <td>211421.62926648528</td>\n",
       "      <td>441273.65925282706</td>\n",
       "    </tr>\n",
       "    <tr>\n",
       "      <th>1050</th>\n",
       "      <td>1051</td>\n",
       "      <td>127.129478</td>\n",
       "      <td>37.470721</td>\n",
       "      <td>211452.15090254002</td>\n",
       "      <td>441268.7072870885</td>\n",
       "    </tr>\n",
       "  </tbody>\n",
       "</table>\n",
       "<p>1051 rows × 5 columns</p>\n",
       "</div>"
      ],
      "text/plain": [
       "        no        gpsX       gpsY                posX                posY\n",
       "0        1  127.127522  37.470866   211279.1235307185   441284.5625689891\n",
       "1        2  127.127523   37.47081  211279.22039406354  441278.34810637916\n",
       "2        3  127.127539  37.469667  211280.80734333812  441151.50597033696\n",
       "3        4  127.126775  37.469676  211213.23027295974  441152.41350836307\n",
       "4        5  127.126725  37.469676  211208.80777835206    441152.407556667\n",
       "...    ...         ...        ...                 ...                 ...\n",
       "1046  1047   127.12758  37.470808  211284.26226245495  441278.13298492087\n",
       "1047  1048  127.127643  37.470807  211289.83467207974   441278.0295604253\n",
       "1048  1049  127.128817  37.470781  211393.67722895567   441275.2855976918\n",
       "1049  1050  127.129133  37.470766  211421.62926648528  441273.65925282706\n",
       "1050  1051  127.129478  37.470721  211452.15090254002   441268.7072870885\n",
       "\n",
       "[1051 rows x 5 columns]"
      ]
     },
     "execution_count": 7,
     "metadata": {},
     "output_type": "execute_result"
    }
   ],
   "source": [
    "df"
   ]
  },
  {
   "cell_type": "code",
   "execution_count": null,
   "metadata": {},
   "outputs": [],
   "source": []
  }
 ],
 "metadata": {
  "kernelspec": {
   "display_name": "gtfs_env",
   "language": "python",
   "name": "python3"
  },
  "language_info": {
   "codemirror_mode": {
    "name": "ipython",
    "version": 3
   },
   "file_extension": ".py",
   "mimetype": "text/x-python",
   "name": "python",
   "nbconvert_exporter": "python",
   "pygments_lexer": "ipython3",
   "version": "3.10.6"
  },
  "orig_nbformat": 4
 },
 "nbformat": 4,
 "nbformat_minor": 2
}
